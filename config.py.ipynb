{
 "cells": [
  {
   "cell_type": "code",
   "execution_count": null,
   "id": "62113115",
   "metadata": {},
   "outputs": [],
   "source": [
    "roadgoat_key = "
   ]
  },
  {
   "cell_type": "code",
   "execution_count": null,
   "id": "0d3a8509",
   "metadata": {},
   "outputs": [],
   "source": [
    "yelp_key = \"eWOTDiAx9KHsyQLgyF9XbW6TX6IUt7BtcT0txP3HoWCZs-s3368oCWkURqYI7onLBvAkjB4fM4-K6o9-3lGhlFV0g-zuh--2NqzauC9qxNwJrpe93IDl6LIwJ981ZHYx\"\n",
    "\n",
    "yelp_client_id = \"I8VFnNOK2UIyQAfEchgKsQ\""
   ]
  }
 ],
 "metadata": {
  "kernelspec": {
   "display_name": "PythonData",
   "language": "python",
   "name": "pythondata"
  },
  "language_info": {
   "codemirror_mode": {
    "name": "ipython",
    "version": 3
   },
   "file_extension": ".py",
   "mimetype": "text/x-python",
   "name": "python",
   "nbconvert_exporter": "python",
   "pygments_lexer": "ipython3",
   "version": "3.7.7"
  }
 },
 "nbformat": 4,
 "nbformat_minor": 5
}
