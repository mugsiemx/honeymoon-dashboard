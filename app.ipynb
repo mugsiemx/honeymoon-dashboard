{
 "cells": [
  {
   "cell_type": "code",
   "execution_count": 1,
   "id": "53422adf",
   "metadata": {},
   "outputs": [],
   "source": [
    "# import Flask\n",
    "import os\n",
    "from flask import Flask\n",
    "from sqlalchemy import create_engine\n",
    "from sqlalchemy.orm import Session\n",
    "from sqlalchemy.ext.automap import automap_base"
   ]
  },
  {
   "cell_type": "code",
   "execution_count": 3,
   "id": "1a9f3d49",
   "metadata": {},
   "outputs": [],
   "source": [
    "Base = automap_base()\n",
    "\n",
    "engine = create_engine(os.getenv('DATABASE_URI'))\n",
    "\n",
    "Base.prepare(engine,reflect=True)"
   ]
  },
  {
   "cell_type": "code",
   "execution_count": null,
   "id": "4c86e980",
   "metadata": {},
   "outputs": [],
   "source": [
    "# Add X = Base.classes.x where x is the table name in SQL"
   ]
  },
  {
   "cell_type": "code",
   "execution_count": null,
   "id": "fbf2051d",
   "metadata": {},
   "outputs": [],
   "source": [
    "# Bind Session\n",
    "session = Session(engine)"
   ]
  },
  {
   "cell_type": "code",
   "execution_count": null,
   "id": "245be167",
   "metadata": {},
   "outputs": [],
   "source": [
    "#create engine \n",
    "app = Flask(__name__)"
   ]
  },
  {
   "cell_type": "code",
   "execution_count": 4,
   "id": "7d481ace",
   "metadata": {},
   "outputs": [],
   "source": [
    "#return\n",
    "@app.route('/')\n",
    "def index():\n",
    "    #### insert the data being queried. See example:\n",
    "##     cols = ['id', 'val']\n",
    "##     data = session.query(Test).all()\n",
    "##     result = [{col: getattr(d, col) for col in cols} for d in data]\n",
    "##     return jsonify(result=result)\n",
    "\n",
    "    return \"Honeymoon Dashboard\" ## Change this to return a jsonified result"
   ]
  }
 ],
 "metadata": {
  "kernelspec": {
   "display_name": "PythonData",
   "language": "python",
   "name": "pythondata"
  },
  "language_info": {
   "codemirror_mode": {
    "name": "ipython",
    "version": 3
   },
   "file_extension": ".py",
   "mimetype": "text/x-python",
   "name": "python",
   "nbconvert_exporter": "python",
   "pygments_lexer": "ipython3",
   "version": "3.7.7"
  }
 },
 "nbformat": 4,
 "nbformat_minor": 5
}
