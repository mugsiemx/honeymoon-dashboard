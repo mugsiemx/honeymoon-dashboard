{
 "cells": [
  {
   "cell_type": "code",
   "execution_count": 1,
   "id": "8dd7fb30",
   "metadata": {},
   "outputs": [],
   "source": [
    "# import Flask\n",
    "from flask import Flask"
   ]
  },
  {
   "cell_type": "code",
   "execution_count": 3,
   "id": "31f50cba",
   "metadata": {},
   "outputs": [],
   "source": [
    "#create engine \n",
    "\n",
    "app = Flask(__name__)"
   ]
  },
  {
   "cell_type": "code",
   "execution_count": 4,
   "id": "8b026080",
   "metadata": {},
   "outputs": [],
   "source": [
    "#return\n",
    "@app.route('/')\n",
    "def index():\n",
    "    return \"Honeymoon Dashboard\""
   ]
  },
  {
   "cell_type": "code",
   "execution_count": null,
   "id": "40522a34",
   "metadata": {},
   "outputs": [],
   "source": []
  }
 ],
 "metadata": {
  "kernelspec": {
   "display_name": "PythonData",
   "language": "python",
   "name": "pythondata"
  },
  "language_info": {
   "codemirror_mode": {
    "name": "ipython",
    "version": 3
   },
   "file_extension": ".py",
   "mimetype": "text/x-python",
   "name": "python",
   "nbconvert_exporter": "python",
   "pygments_lexer": "ipython3",
   "version": "3.7.7"
  }
 },
 "nbformat": 4,
 "nbformat_minor": 5
}
