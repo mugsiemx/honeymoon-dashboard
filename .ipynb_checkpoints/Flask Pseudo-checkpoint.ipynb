{
 "cells": [
  {
   "cell_type": "code",
   "execution_count": null,
   "id": "6c8e663a",
   "metadata": {},
   "outputs": [],
   "source": [
    "# import Flask\n",
    "from flask import Flask"
   ]
  },
  {
   "cell_type": "code",
   "execution_count": null,
   "id": "60b25961",
   "metadata": {},
   "outputs": [],
   "source": [
    "#create engine \n",
    "\n",
    "app = Flask(_name_)"
   ]
  },
  {
   "cell_type": "code",
   "execution_count": null,
   "id": "669aeaec",
   "metadata": {},
   "outputs": [],
   "source": [
    "#return\n",
    "@app.route('/')\n",
    "def indec():\n",
    "    return '..'"
   ]
  },
  {
   "cell_type": "code",
   "execution_count": null,
   "id": "f3eb62d3",
   "metadata": {},
   "outputs": [],
   "source": []
  }
 ],
 "metadata": {
  "kernelspec": {
   "display_name": "PythonData",
   "language": "python",
   "name": "pythondata"
  },
  "language_info": {
   "codemirror_mode": {
    "name": "ipython",
    "version": 3
   },
   "file_extension": ".py",
   "mimetype": "text/x-python",
   "name": "python",
   "nbconvert_exporter": "python",
   "pygments_lexer": "ipython3",
   "version": "3.7.7"
  }
 },
 "nbformat": 4,
 "nbformat_minor": 5
}
