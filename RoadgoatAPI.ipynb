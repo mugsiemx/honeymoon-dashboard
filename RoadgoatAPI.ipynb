{
 "cells": [
  {
   "cell_type": "code",
   "execution_count": 1,
   "id": "7d6a8538",
   "metadata": {},
   "outputs": [],
   "source": [
    "# Import Dependencies (based on RoadGoat API Documentation)\n",
    "import http.client\n",
    "import base64\n",
    "from config import roadgoat_key"
   ]
  },
  {
   "cell_type": "code",
   "execution_count": null,
   "id": "f522874b",
   "metadata": {},
   "outputs": [],
   "source": [
    "# HTTP connection following RoadGoat API Documentation\n",
    "conn = http.client.HTTPSConnection(\"api.roadgoat.com:80\")\n",
    "encoded_bytes = base64.b64encode(roadgoat_key.encode(\"utf-8\"))\n",
    "auth_key = str(encoded_bytes,\"utf-8\")\n",
    "payload = ''\n",
    "headers = { 'Authorization': f'Basic{auth_key}'}"
   ]
  },
  {
   "cell_type": "code",
   "execution_count": null,
   "id": "4808ba3b",
   "metadata": {},
   "outputs": [],
   "source": [
    "# API base url\n",
    "base_url = \"/api/v2/destinations/:id?\""
   ]
  },
  {
   "cell_type": "code",
   "execution_count": null,
   "id": "f422a2da",
   "metadata": {},
   "outputs": [],
   "source": [
    "# Import Lat/Long Database\n",
    "csv_path = \"INSERT TAZIA'S CSV PATH HERE\"\n",
    "locations_df = pd.read_csv(csv_path)\n",
    "locations_df.head()"
   ]
  },
  {
   "cell_type": "code",
   "execution_count": null,
   "id": "8e4c458f",
   "metadata": {},
   "outputs": [],
   "source": [
    "# Gather Lists of Latitudes and Longitudes\n",
    "latitudes_list = []\n",
    "longitudes_list = []\n",
    "for i in range(locations_df.shape[0]):\n",
    "    latitudes_list.append(locations_df.at[i,**INSERT COLUMN NUM FOR LATITUDE**])\n",
    "    longitudes_list.append(locations_df.at[i,**INSERT COLUMN NUM FOR LONGITUDE**])\n",
    "print(len(latitudes_list))\n",
    "print(len(longitudes_list))"
   ]
  },
  {
   "cell_type": "code",
   "execution_count": null,
   "id": "763e5b1c",
   "metadata": {},
   "outputs": [],
   "source": [
    "# Gather List of URLs\n",
    "url_list = []\n",
    "for i in len(latitudes_list):\n",
    "    latitude = latitudes_list[i]\n",
    "    longitude = longitudes_list[i]\n",
    "    full_url = base_url + \"latitude=\" + latitude + \"&longitude&=\" + longitude\n",
    "    url_list.append(full_url)\n",
    "url_list"
   ]
  },
  {
   "cell_type": "code",
   "execution_count": null,
   "id": "95d1f4b1",
   "metadata": {},
   "outputs": [],
   "source": [
    "# Create API Calls\n",
    "data_list = []\n",
    "for i in len(url_list):\n",
    "    conn.request(\"GET\",url_list[i],payload,headers)\n",
    "    response = conn.getresponse()\n",
    "    data = response.read().decode(\"utf-8\")\n",
    "    # Add the desired data to a dictionary\n",
    "    data_dict = {\"latitude\":data[\"latitude\"],\n",
    "                 \"longitude\":data[\"longitude\"],\n",
    "                 \"population\":data[\"population\"],\n",
    "                 \"name\":data[\"long-name\"],\n",
    "                 \"budget_text\":data[\"budget\"][data[\"name\"]][\"text\"],\n",
    "                 \"budget_score\":data[\"budget\"][data[\"name\"]][\"id\"],\n",
    "                 \"known_for\":data[\"known_for\"]}\n",
    "    # Append the dictionary into a list\n",
    "    data_list.append(data_dict)\n",
    "    # Delay one second. The API only allows 60 calls / minute\n",
    "    time.sleep(1)\n",
    "\n",
    "roadgoat_df = pd.DataFrame(data_list)\n",
    "roadgoat_df"
   ]
  }
 ],
 "metadata": {
  "kernelspec": {
   "display_name": "PythonData",
   "language": "python",
   "name": "pythondata"
  },
  "language_info": {
   "codemirror_mode": {
    "name": "ipython",
    "version": 3
   },
   "file_extension": ".py",
   "mimetype": "text/x-python",
   "name": "python",
   "nbconvert_exporter": "python",
   "pygments_lexer": "ipython3",
   "version": "3.7.7"
  }
 },
 "nbformat": 4,
 "nbformat_minor": 5
}
