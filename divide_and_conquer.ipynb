{
 "cells": [
  {
   "cell_type": "code",
   "execution_count": null,
   "id": "34e4cc7f",
   "metadata": {},
   "outputs": [],
   "source": [
    "# dependencies and setup\n",
    "import pandas as pd\n",
    "import os\n",
    "import csv\n",
    "\n",
    "## IMPORT\n",
    "## import csv of latitude/longitude\n",
    "# Locations\n",
    "locations_import = os.path.join('..','Resources','CitiesWGeolocation.csv')\n",
    "## import csv of cost of living information\n",
    "# \n",
    "cost_of_living_import = os.path.join('..','Resources','cost_of_living.csv')\n",
    "## import csv of weather information (temperature, # of sunny days)\n",
    "# Sunshine (***change ERD from Rain***)\n",
    "# Temperature\n",
    "weather_import = os.path.join('..','Resources','weather'.csv')\n",
    "# import csv of Yelp rating data\n",
    "yelp_import = os.path.join('..','Resources','yelpdata.csv')\n",
    "# import csv of \n",
    "# _file = os.path.join('..','Resources',.csv')\n",
    "\n",
    "## MERGE\n",
    "\n",
    "## EXPORT\n",
    "# export list of sunny days by month\n",
    "Locations_export = os.path.join('..','Output','Locations.csv')\n",
    "LocationsCharacteristics_export = os.path.join('..','Output','LocationsCharacteristics.csv')\n",
    "Temperature_export = os.path.join('..','Output','Temperature.csv')\n",
    "Sunshine_export = os.path.join('..','Output','Sunshine.csv')\n",
    "Activities_export = os.path.join('..','Output','Activities.csv')\n",
    "ActivityList_export = os.path.join('..','Output','ActivityList.csv')            \n",
    "CountryFlags_export = os.path.join('..','Output','CountryFlags.csv')"
   ]
  },
  {
   "cell_type": "code",
   "execution_count": null,
   "id": "98149f52",
   "metadata": {},
   "outputs": [],
   "source": [
    "## create csv files for export readying for PostgreSQL import\n",
    "# Locations\n",
    "##   LocationID(pk), City, Locality, Country, Latitude, Longitude\n",
    "\n",
    "Locations_df.to_csv(Locations_export)"
   ]
  },
  {
   "cell_type": "code",
   "execution_count": null,
   "id": "22bc0b50",
   "metadata": {},
   "outputs": [],
   "source": [
    "## create csv files for export readying for PostgreSQL import\n",
    "# LocationsCharacteristics\n",
    "##   LocationID(pk), LodgingScore, TransportationScore, RestaurantScore\n",
    "\n",
    "LocationsCharacteristics_df.to_csv(LocationsCharacteristics_export)"
   ]
  },
  {
   "cell_type": "code",
   "execution_count": null,
   "id": "140b66d6",
   "metadata": {},
   "outputs": [],
   "source": [
    "## create csv files for export readying for PostgreSQL import\n",
    "# Temperature\n",
    "##   LocationID(pk), January, February, March, April, May, June, July, August, September, October, November, December\n",
    "\n",
    "Temperature_df.to_csv(Temperature_export)"
   ]
  },
  {
   "cell_type": "code",
   "execution_count": null,
   "id": "a349de94",
   "metadata": {},
   "outputs": [],
   "source": [
    "## create csv files for export readying for PostgreSQL import\n",
    "#  Sunshine [was originally: Rain]\n",
    "##   LocationID(pk), January, February, March, April, May, June, July, August, September, October, November, December\n",
    "\n",
    "Sunshine_df.to_csv(Sunshine_export)"
   ]
  },
  {
   "cell_type": "code",
   "execution_count": null,
   "id": "1df137e7",
   "metadata": {},
   "outputs": [],
   "source": [
    "## create csv files for export readying for PostgreSQL import\n",
    "# Activities\n",
    "##   LocationID(pk),  Activity1, Activity2, Activity3, Activity4, Activity5\n",
    "\n",
    "Activities_df.to_csv(Activities_export)"
   ]
  },
  {
   "cell_type": "code",
   "execution_count": null,
   "id": "f5e9dc16",
   "metadata": {},
   "outputs": [],
   "source": [
    "## create csv files for export readying for PostgreSQL import\n",
    "# ActivityList\n",
    "##   ActivityID(pk), Name, Image, Link\n",
    "\n",
    "ActivityList_df.to_csv(ActivityList_export)"
   ]
  },
  {
   "cell_type": "code",
   "execution_count": null,
   "id": "337f2a25",
   "metadata": {},
   "outputs": [],
   "source": [
    "## create csv files for export readying for PostgreSQL import\n",
    "# CountryFlags\n",
    "##   Country(pk), Image\n",
    "\n",
    "CountryFlags_df.to_csv(CountryFlags_export)"
   ]
  }
 ],
 "metadata": {
  "kernelspec": {
   "display_name": "PythonData",
   "language": "python",
   "name": "pythondata"
  },
  "language_info": {
   "codemirror_mode": {
    "name": "ipython",
    "version": 3
   },
   "file_extension": ".py",
   "mimetype": "text/x-python",
   "name": "python",
   "nbconvert_exporter": "python",
   "pygments_lexer": "ipython3",
   "version": "3.7.7"
  }
 },
 "nbformat": 4,
 "nbformat_minor": 5
}
