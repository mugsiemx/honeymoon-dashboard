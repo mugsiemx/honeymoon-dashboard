{
 "cells": [
  {
   "cell_type": "code",
   "execution_count": 3,
   "id": "c133a6b7",
   "metadata": {},
   "outputs": [],
   "source": [
    "# Import Dependencies\n",
    "import requests\n",
    "import json\n",
    "import pandas as pd\n",
    "from config import yelp_key"
   ]
  },
  {
   "cell_type": "code",
   "execution_count": 4,
   "id": "cedb7d8a",
   "metadata": {},
   "outputs": [],
   "source": [
    "# API Base URL\n",
    "base_url = \"https://api.yelp.com/v3/businesses/search?\""
   ]
  },
  {
   "cell_type": "code",
   "execution_count": 5,
   "id": "e443e7a4",
   "metadata": {},
   "outputs": [],
   "source": [
    "# API Headers\n",
    "headers = {\n",
    "    \"accept\" : \"application/json\",\n",
    "    \"Authorization\" : \"Bearer \" + yelp_key \n",
    "}"
   ]
  },
  {
   "cell_type": "code",
   "execution_count": 20,
   "id": "b49b6fb8",
   "metadata": {},
   "outputs": [
    {
     "data": {
      "text/plain": [
       "21"
      ]
     },
     "execution_count": 20,
     "metadata": {},
     "output_type": "execute_result"
    }
   ],
   "source": [
    "# Create List of Categories (manually located)\n",
    "categories = ['beaches','hanggliding','horsebackriding',\n",
    "             'hiking','hot_air_baloons',\n",
    "              'paddleboarding','parasailing',\n",
    "              'sailing','snorkeling','ziplining', \n",
    "              'spas','hotsprings','massage','bedbreakfast','hotels','resorts',\n",
    "              'skiresorts','tours', 'transportation','restaurants','nightlife'\n",
    "             ]\n",
    "\n",
    "len(categories)"
   ]
  },
  {
   "cell_type": "code",
   "execution_count": null,
   "id": "c59e0d18",
   "metadata": {},
   "outputs": [],
   "source": [
    "# Import Lat/Long Database\n",
    "csv_path = \"../Resources/CitiesWGeolocation.csv\"\n",
    "locations_df = pd.read_csv(csv_path)\n",
    "locations_df.head()"
   ]
  },
  {
   "cell_type": "code",
   "execution_count": null,
   "id": "789dc543",
   "metadata": {},
   "outputs": [],
   "source": [
    "# Gather Lists of Latitudes and Longitudes\n",
    "latitudes_list = []\n",
    "longitudes_list = []\n",
    "for i in range(locations_df.shape[0]):\n",
    "    latitudes_list.append(locations_df.at[i,**INSERT COLUMN NUM FOR LATITUDE**])\n",
    "    longitudes_list.append(locations_df.at[i,**INSERT COLUMN NUM FOR LONGITUDE**])\n",
    "print(len(latitudes_list))\n",
    "print(len(longitudes_list))"
   ]
  },
  {
   "cell_type": "code",
   "execution_count": null,
   "id": "d7a86fb2",
   "metadata": {},
   "outputs": [],
   "source": [
    "# Gather List of URLs\n",
    "url_list = []\n",
    "lat_lon_list = []\n",
    "cat_list = []\n",
    "for i in len(latitudes_list):\n",
    "        for x in len(categories):\n",
    "            latitude = latitudes_list[i]\n",
    "            longitude = longitudes_list[i]\n",
    "            category = categories[x]\n",
    "            # Limit radius to appx 15 miles from the coordinates\n",
    "            complete_url = base_url + \"latitude=\" + latitude + \"&longitude=\" + longitude + \"&radius=24140&categories=\" + category + \"&sort_by=best_match\"\n",
    "            url_list.append(complete_url)\n",
    "            lat_lon_list.append([latitude,longitude])\n",
    "            cat_list.append(category)\n",
    "# Confirm list of API calls is less than 5,000 daily limit\n",
    "print(len(url_list))\n",
    "url_list"
   ]
  },
  {
   "cell_type": "code",
   "execution_count": null,
   "id": "458ba82f",
   "metadata": {},
   "outputs": [],
   "source": [
    "# Create API Calls\n",
    "data_list=[]\n",
    "for i in len(url_list):\n",
    "    response = requests.get(url_list[i],headers=headers)\n",
    "    data = response.json()\n",
    "    \n",
    "    # Calculate Average Rating and Review Count\n",
    "    rating_sum = 0\n",
    "    review_sum = 0\n",
    "    for x in range(len(data[\"businesses\"])):\n",
    "        rating_sum += data[\"businesses\"][x][\"rating\"]\n",
    "        review_sum += data[\"businesses\"][x][\"review_count\"]\n",
    "    rating_avg = rating_sum / len(data)\n",
    "    review_avg = review_sum / len(data)\n",
    "    \n",
    "    # Add the desired data to a dictionary\n",
    "    data_dict = {\n",
    "        \"latitude\" : lat_lon_list[i][0] ,\n",
    "        \"longitude\": lat_lon_list[i][1],\n",
    "        \"category\" : cat_list[i],\n",
    "        \"results_total\" : len(data[\"businesses\"]),\n",
    "        \"avg_rating\" : rating_avg,\n",
    "        \"avg_review_count\" : review_avg\n",
    "    }\n",
    "    # Append the dictionary to a list\n",
    "    data_list.append(data_dict)\n",
    "    \n",
    "yelp_df = pd.DataFrame(data_list)   \n",
    "yelp_df"
   ]
  },
  {
   "cell_type": "code",
   "execution_count": null,
   "id": "99e6e5a5",
   "metadata": {},
   "outputs": [],
   "source": []
  }
 ],
 "metadata": {
  "kernelspec": {
   "display_name": "PythonData",
   "language": "python",
   "name": "pythondata"
  },
  "language_info": {
   "codemirror_mode": {
    "name": "ipython",
    "version": 3
   },
   "file_extension": ".py",
   "mimetype": "text/x-python",
   "name": "python",
   "nbconvert_exporter": "python",
   "pygments_lexer": "ipython3",
   "version": "3.7.7"
  }
 },
 "nbformat": 4,
 "nbformat_minor": 5
}
