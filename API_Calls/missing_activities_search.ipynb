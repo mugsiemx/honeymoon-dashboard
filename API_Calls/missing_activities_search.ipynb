{
 "cells": [
  {
   "cell_type": "code",
   "execution_count": 3,
   "id": "ff5c3e34",
   "metadata": {},
   "outputs": [],
   "source": [
    "# Import dependencies\n",
    "import pandas as pd\n",
    "import json\n",
    "import re"
   ]
  },
  {
   "cell_type": "code",
   "execution_count": 4,
   "id": "fb45d6bb",
   "metadata": {},
   "outputs": [],
   "source": [
    "# Import data\n",
    "missing_activities_path = \"../Resources/missingActivities.csv\"\n",
    "missing_df = pd.read_csv(missing_activities_path)"
   ]
  },
  {
   "cell_type": "code",
   "execution_count": 5,
   "id": "19aac47c",
   "metadata": {},
   "outputs": [],
   "source": [
    "# Clean up data to only include what is needed\n",
    "missing_df = missing_df[[\"latitude\",\"longitude\",\"City\",\"State/Province\",\"Country\"]]\n",
    "missing_df = missing_df.rename(columns={\"City\":\"city\",\"State/Province\":\"state/province\",\"Country\":\"country\"})\n",
    "missing_df['city'] = missing_df['city'].str.replace('\\u200b','')\n",
    "missing_df['country'] = missing_df['country'].str.replace('\\u200b','')"
   ]
  },
  {
   "cell_type": "code",
   "execution_count": 6,
   "id": "04ef6902",
   "metadata": {},
   "outputs": [],
   "source": [
    "# Convert the locations to a list\n",
    "cities = missing_df['city'].tolist()\n",
    "countries = missing_df['country'].tolist()\n",
    "locations = list(zip(cities,countries))"
   ]
  },
  {
   "cell_type": "code",
   "execution_count": 7,
   "id": "7cc219e9",
   "metadata": {},
   "outputs": [],
   "source": [
    "# Clean up the list for adding to ChatGPT\n",
    "for i in range(len(locations)):\n",
    "    if locations[i][0] == locations[i][1]:\n",
    "        locations[i] = locations[i][0]\n",
    "locations.remove((\"Marrakech\",\"Morocco\"))"
   ]
  },
  {
   "cell_type": "code",
   "execution_count": 8,
   "id": "3f6a7ba4",
   "metadata": {},
   "outputs": [],
   "source": [
    "# Categories from original YELP API Call\n",
    "categories = ['beaches','hanggliding','horsebackriding',\n",
    "             'hiking','hot_air_balloons',\n",
    "              'paddleboarding','parasailing',\n",
    "              'sailing','snorkeling','ziplining', \n",
    "              'spas','hotsprings','massage','bedbreakfast','hotels','resorts',\n",
    "              'skiresorts','tours', 'transportation','restaurants','nightlife'\n",
    "             ]"
   ]
  },
  {
   "cell_type": "code",
   "execution_count": 9,
   "id": "7606a67c",
   "metadata": {},
   "outputs": [],
   "source": [
    "# Separate out non-activities for later use\n",
    "non_activities = ['bedbreakfast','hotels','resorts','skiresorts','transportation','restaurants','nightlife']"
   ]
  },
  {
   "cell_type": "markdown",
   "id": "92015689",
   "metadata": {},
   "source": [
    "## Pull Activities Lists From Chat GPT"
   ]
  },
  {
   "cell_type": "code",
   "execution_count": 10,
   "id": "ed372cc1",
   "metadata": {},
   "outputs": [],
   "source": [
    "# Create list of only activities\n",
    "activities = [i for i in categories if i not in non_activities]"
   ]
  },
  {
   "cell_type": "code",
   "execution_count": 11,
   "id": "f1984cbb",
   "metadata": {},
   "outputs": [
    {
     "name": "stdout",
     "output_type": "stream",
     "text": [
      "20 20 20 13\n"
     ]
    }
   ],
   "source": [
    "# Split list of locations into sets of 20 for ChatGPT searches\n",
    "locations_1 = locations[:20]\n",
    "locations_2 = locations[20:40]\n",
    "locations_3 = locations[40:60]\n",
    "locations_4 = locations[60:]\n",
    "print(len(locations_1),len(locations_2),len(locations_3),len(locations_4))"
   ]
  },
  {
   "cell_type": "code",
   "execution_count": 12,
   "id": "ec494ba6",
   "metadata": {},
   "outputs": [],
   "source": [
    "# Create search criteria\n",
    "search1 = \"Provide the top 5 activities for each of the following locations in table format:\" + str(locations_1) + \". Only use the following words for the activities:\" + str(activities)\n",
    "search2 = \"Provide the top 5 activities for each of the following locations in table format:\" + str(locations_2) + \". Only use the following words for the activities:\" + str(activities)\n",
    "search3 = \"Provide the top 5 activities for each of the following locations in table format:\" + str(locations_3) + \". Only use the following words for the activities:\" + str(activities)\n",
    "search4 = \"Provide the top 5 activities for each of the following locations in table format:\" + str(locations_4) + \". Only use the following words for the activities:\" + str(activities)"
   ]
  },
  {
   "cell_type": "code",
   "execution_count": 13,
   "id": "a0a15c9d",
   "metadata": {},
   "outputs": [
    {
     "data": {
      "text/plain": [
       "\"Provide the top 5 activities for each of the following locations in table format:['Cook Islands', ('Dubrovnik', 'Croatia'), 'Antigua and Barbuda', ('Dubai', 'United Arab Emirates'), 'Turks and Caicos Islands', ('Stellenbosch', ' South Africa'), ('Zanzibar', 'Tanzania'), 'Mauritius', 'Cayman Islands', 'Seychelles', ('Marrakesh', 'Morocco'), ('Jaipur', ' India'), 'Barbados', ('Udaipur', ' India'), 'Jamaica', ('Hermanus', ' South Africa'), ('Agra', ' India'), 'Fiji', ('St. Petersburg', 'Russia'), 'Saint Lucia']. Only use the following words for the activities:['beaches', 'hanggliding', 'horsebackriding', 'hiking', 'hot_air_balloons', 'paddleboarding', 'parasailing', 'sailing', 'snorkeling', 'ziplining', 'spas', 'hotsprings', 'massage', 'tours']\""
      ]
     },
     "execution_count": 13,
     "metadata": {},
     "output_type": "execute_result"
    }
   ],
   "source": [
    "search1 #Move the results to ChatGPT"
   ]
  },
  {
   "cell_type": "code",
   "execution_count": 14,
   "id": "48e254e4",
   "metadata": {},
   "outputs": [
    {
     "data": {
      "text/plain": [
       "\"Provide the top 5 activities for each of the following locations in table format:['Bahamas', ('Bali', 'Indonesia'), ('Bangkok', 'Thailand'), ('New Delhi', 'India'), ('Budapest', 'Hungary'), ('Mumbai', 'India'), ('Bucharest', 'Romania'), ('Phuket', 'Thailand'), ('Chiang Mai', 'Thailand'), ('Jakarta', 'Indonesia'), ('Sofia', 'Bulgaria'), ('Hanoi', 'Vietnam'), ('Ho Chi Minh City', 'Vietnam'), ('Belgrade', 'Serbia'), ('Siem Reap', 'Cambodia'), ('Kyiv', 'Ukraine'), ('Moscow', 'Russia'), ('Hoi An', 'Vietnam'), ('Colombo', 'Sri Lanka'), ('Seoul', 'South Korea')]. Only use the following words for the activities:['beaches', 'hanggliding', 'horsebackriding', 'hiking', 'hot_air_balloons', 'paddleboarding', 'parasailing', 'sailing', 'snorkeling', 'ziplining', 'spas', 'hotsprings', 'massage', 'tours']\""
      ]
     },
     "execution_count": 14,
     "metadata": {},
     "output_type": "execute_result"
    }
   ],
   "source": [
    "search2 #Move the results to ChatGPT"
   ]
  },
  {
   "cell_type": "code",
   "execution_count": 15,
   "id": "901f3676",
   "metadata": {},
   "outputs": [
    {
     "data": {
      "text/plain": [
       "\"Provide the top 5 activities for each of the following locations in table format:[('Medellin', 'Colombia'), ('Kathmandu', 'Nepal'), ('Johannesburg', 'South Africa'), ('Phnom Penh', 'Cambodia'), ('Beijing', 'China'), ('Lima', 'Peru'), ('Minsk', 'Belarus'), ('Cartagena', 'Colombia'), ('Ljubljana', 'Slovenia'), ('Quito', 'Ecuador'), ('Tallinn', 'Estonia'), ('Zagreb', 'Croatia'), (Xi'an, 'China'), ('Arequipa', 'Peru'), ('Montevideo', 'Uruguay'), ('Split', 'Croatia'), ('Pokhara', 'Nepal'), ('Shanghai', 'China'), ('Riga', 'Latvia'), ('Vilnius', 'Lithuania')]. Only use the following words for the activities:['beaches', 'hanggliding', 'horsebackriding', 'hiking', 'hot_air_balloons', 'paddleboarding', 'parasailing', 'sailing', 'snorkeling', 'ziplining', 'spas', 'hotsprings', 'massage', 'tours']\""
      ]
     },
     "execution_count": 15,
     "metadata": {},
     "output_type": "execute_result"
    }
   ],
   "source": [
    "search3.replace(\"\\\"\",\"\")  #Move the results to ChatGPT"
   ]
  },
  {
   "cell_type": "code",
   "execution_count": 16,
   "id": "be27d1bb",
   "metadata": {},
   "outputs": [
    {
     "data": {
      "text/plain": [
       "\"Provide the top 5 activities for each of the following locations in table format:[('Hvar', 'Croatia'), ('San Jose', 'Costa Rica'), ('Abu Dhabi', 'United Arab Emirates'), ('Vientiane', 'Laos'), ('La Paz', 'Bolivia'), ('Doha', 'Qatar'), ('Tel Aviv', 'Israel'), ('Dakar', 'Senegal'), ('Muscat', 'Oman'), ('Kuwait City', 'Kuwait'), ('Beirut', 'Lebanon'), ('Valletta', 'Malta'), ('Reykjavik', 'Iceland')]. Only use the following words for the activities:['beaches', 'hanggliding', 'horsebackriding', 'hiking', 'hot_air_balloons', 'paddleboarding', 'parasailing', 'sailing', 'snorkeling', 'ziplining', 'spas', 'hotsprings', 'massage', 'tours']\""
      ]
     },
     "execution_count": 16,
     "metadata": {},
     "output_type": "execute_result"
    }
   ],
   "source": [
    "search4"
   ]
  },
  {
   "cell_type": "code",
   "execution_count": 17,
   "id": "e7360b78",
   "metadata": {},
   "outputs": [],
   "source": [
    "# Import ChatGPT results\n",
    "json_path = \"../Resources/chat_gpt_results.json\"\n",
    "chat_data = json.load(open(json_path))"
   ]
  },
  {
   "cell_type": "code",
   "execution_count": 18,
   "id": "097c3422",
   "metadata": {},
   "outputs": [],
   "source": [
    "# Create a list based on the portion of the code we need. Skip where the result doesn't have the needed part\n",
    "results = []\n",
    "for i in chat_data[0]['mapping'].keys():\n",
    "    try:\n",
    "        result = chat_data[0]['mapping'][i]['message']['content']['parts']\n",
    "        results.append(result)\n",
    "    except:\n",
    "        pass\n",
    "# Merge the lists into a single list based on the results we want\n",
    "list_results = results[2]+results[4]+results[6]+results[8]"
   ]
  },
  {
   "cell_type": "code",
   "execution_count": 19,
   "id": "c8d01812",
   "metadata": {},
   "outputs": [],
   "source": [
    "# Normalize the list by removing all unnecessary characters\n",
    "for i in range(len(list_results)):\n",
    "    list_results[i] = list_results[i].replace('\\n','')\n",
    "    list_results[i] = list_results[i].replace('--','')\n",
    "    list_results[i] = list_results[i].replace('|-|-|','')\n",
    "    list_results[i] = list_results[i].replace ('  ','')\n",
    "    list_results[i] = list_results[i].replace ('| ','|')\n",
    "    list_results[i] = list_results[i].replace (' |','|')\n",
    "    list_results[i] = list_results[i].split('||')\n",
    "    # Pop off the last pipe from the list\n",
    "    list_results[i][-1] = list_results[i][-1][:-1] \n",
    "    \n",
    "# Merge the list of lists into a single list\n",
    "one_list = [item for sublist in list_results for item in sublist]"
   ]
  },
  {
   "cell_type": "code",
   "execution_count": 20,
   "id": "e07e7b58",
   "metadata": {},
   "outputs": [
    {
     "data": {
      "text/plain": [
       "['Cook Islands|beaches, snorkeling, paddleboarding, sailing, spas',\n",
       " 'Dubrovnik, Croatia|hiking, sailing, tours, beaches, spas',\n",
       " 'Antigua and Barbuda|beaches, sailing, snorkeling, paddleboarding, horsebackriding',\n",
       " 'Dubai, UAE|hot_air_balloons, tours, spas, horsebackriding, sailing',\n",
       " 'Turks and Caicos Islands|beaches, snorkeling, parasailing, paddleboarding, horsebackriding',\n",
       " 'Stellenbosch, South Africa|hiking, horsebackriding, wine tours, spas, hot springs',\n",
       " 'Zanzibar, Tanzania|snorkeling, beaches, tours, sailing, spice tours',\n",
       " 'Mauritius|beaches, snorkeling, spas, hiking, sailing',\n",
       " 'Cayman Islands|beaches, snorkeling, sailing, paddleboarding, spas',\n",
       " 'Seychelles|beaches, snorkeling, sailing, hiking, spas',\n",
       " 'Marrakesh, Morocco|hiking, hot_air_balloons, tours, spas, ziplining',\n",
       " 'Jaipur, India|tours, hot_air_balloons, horsebackriding, spas, hiking',\n",
       " 'Barbados|beaches, snorkeling, sailing, horsebackriding, spas',\n",
       " 'Udaipur, India|tours, hot_air_balloons, hiking, horsebackriding, spas',\n",
       " 'Jamaica|beaches, snorkeling, horsebackriding, hiking, spas',\n",
       " 'Hermanus, South Africa|whale watching, beaches, hiking, horsebackriding, spas',\n",
       " 'Agra, India|tours, hot_air_balloons, spas, hiking, horsebackriding',\n",
       " 'Fiji|beaches, snorkeling, sailing, paddleboarding, spas',\n",
       " 'St. Petersburg, Russia|tours, museums, hiking, boat tours, spas',\n",
       " 'Saint Lucia|beaches, snorkeling, sailing, spas, hiking',\n",
       " 'Medellin, Colombia|tours, hiking, horsebackriding, hot springs, spas',\n",
       " 'Kathmandu, Nepal|hiking, tours, hot air balloons, spas, massage',\n",
       " 'Johannesburg, South Africa|tours, hiking, safaris, horsebackriding, spas',\n",
       " 'Phnom Penh, Cambodia|tours, spas, massage, hot springs, hiking',\n",
       " 'Beijing, China|tours, hiking, hot air balloons, spas, massage',\n",
       " 'Lima, Peru|tours, hiking, spas, beaches, paddleboarding',\n",
       " 'Minsk, Belarus|tours, spas, massage, hot springs, hiking',\n",
       " 'Cartagena, Colombia|beaches, snorkeling, sailing, tours, spas',\n",
       " 'Ljubljana, Slovenia|hiking, tours, hot air balloons, spas, paddleboarding',\n",
       " 'Quito, Ecuador|hiking, tours, hot springs, spas, horsebackriding',\n",
       " 'Tallinn, Estonia|tours, spas, massage, hiking, hot air balloons',\n",
       " 'Zagreb, Croatia|hiking, tours, spas, horsebackriding, ziplining',\n",
       " \"Xi'an, China|tours, hiking, hot air balloons, spas, massage\",\n",
       " 'Arequipa, Peru|hiking, tours, hot springs, horsebackriding, spas',\n",
       " 'Montevideo, Uruguay|beaches, tours, spas, hiking, horsebackriding',\n",
       " 'Split, Croatia|beaches, sailing, snorkeling, hiking, spas',\n",
       " 'Pokhara, Nepal|hiking, tours, hot air balloons, spas, horsebackriding',\n",
       " 'Shanghai, China|tours, hiking, hot air balloons, spas, massage',\n",
       " 'Riga, Latvia|tours, spas, massage, hiking, hot springs',\n",
       " 'Vilnius, Lithuania|tours, spas, massage, hiking, hot springs',\n",
       " 'Bahamas|beaches, sailing, snorkeling, paddleboarding, tours',\n",
       " 'Bali, Indonesia|beaches, hiking, tours, spas, hot springs',\n",
       " 'Bangkok, Thailand|tours, spas, massage, hot springs, hiking',\n",
       " 'New Delhi, India|tours, spas, massage, hot springs, hiking',\n",
       " 'Budapest, Hungary|tours, spas, massage, hot springs, hiking',\n",
       " 'Mumbai, India|tours, spas, massage, hot springs, hiking',\n",
       " 'Bucharest, Romania|tours, spas, massage, hot springs, hiking',\n",
       " 'Phuket, Thailand|beaches, snorkeling, sailing, tours, spas',\n",
       " 'Chiang Mai, Thailand|tours, spas, massage, hot springs, hiking',\n",
       " 'Jakarta, Indonesia|tours, spas, massage, hot springs, hiking',\n",
       " 'Sofia, Bulgaria|tours, spas, massage, hot springs, hiking',\n",
       " 'Hanoi, Vietnam|tours, spas, massage, hot springs, hiking',\n",
       " 'Ho Chi Minh City, Vietnam|tours, spas, massage, hot springs, hiking',\n",
       " 'Belgrade, Serbia|tours, spas, massage, hot springs, hiking',\n",
       " 'Siem Reap, Cambodia|tours, spas, massage, hot springs, hiking',\n",
       " 'Kyiv, Ukraine|tours, spas, massage, hot springs, hiking',\n",
       " 'Moscow, Russia|tours, spas, massage, hot springs, hiking',\n",
       " 'Hoi An, Vietnam|beaches, tours, spas, snorkeling, sailing',\n",
       " 'Colombo, Sri Lanka|beaches, tours, spas, snorkeling, sailing',\n",
       " 'Seoul, South Korea|tours, spas, massage, hot springs, hiking',\n",
       " 'Hvar, Croatia|Beaches, sailing, snorkeling, hiking, tours',\n",
       " 'San Jose, Costa Rica|Beaches, horsebackriding, hiking, ziplining, tours',\n",
       " 'Abu Dhabi, UAE|Beaches, hot air balloons, spas, tours, sailing',\n",
       " 'Vientiane, Laos|Hiking, temples, tours, spas, hot springs',\n",
       " 'La Paz, Bolivia|Hiking, tours, hot springs, hang gliding, horsebackriding',\n",
       " 'Doha, Qatar|Beaches, tours, spas, hot springs, sailing',\n",
       " 'Tel Aviv, Israel|Beaches, paddleboarding, tours, spas, sailing',\n",
       " 'Dakar, Senegal|Beaches, tours, horsebackriding, hiking, snorkeling',\n",
       " 'Muscat, Oman|Beaches, hot air balloons, snorkeling, tours, sailing',\n",
       " 'Kuwait City, Kuwait|Beaches, tours, spas, hot springs, horsebackriding',\n",
       " 'Beirut, Lebanon|Beaches, tours, spas, hiking, hot springs',\n",
       " 'Valletta, Malta|Beaches, snorkeling, sailing, tours, spas',\n",
       " 'Reykjavik, Iceland|Hiking, hot springs, tours, spas, horsebackriding']"
      ]
     },
     "execution_count": 20,
     "metadata": {},
     "output_type": "execute_result"
    }
   ],
   "source": [
    "# Remove the header rows to standardize data\n",
    "to_remove = ['|Location|Top 5 Activities','Here are the top 5 activities for each of the following locations in table format:|Location|Activities']\n",
    "one_list = [i for i in one_list if i not in to_remove]\n",
    "one_list"
   ]
  },
  {
   "cell_type": "code",
   "execution_count": 21,
   "id": "cf6bef71",
   "metadata": {},
   "outputs": [],
   "source": [
    "# Convert list to dataframe\n",
    "results_df = pd.DataFrame(one_list)\n",
    "# Rename Column\n",
    "results_df = results_df.rename(columns={0:\"location\"})\n",
    "# Split column into two\n",
    "results_df[['location','Activities']] = results_df['location'].str.split('|',expand=True)\n",
    "# Split all activities into separate columns\n",
    "results_df[['act1','act2','act3','act4','act5']] = results_df[\"Activities\"].str.split(',',expand=True)"
   ]
  },
  {
   "cell_type": "code",
   "execution_count": 22,
   "id": "9ed5dfe3",
   "metadata": {},
   "outputs": [],
   "source": [
    "# Fix all locations without cities to normalize back to dataset\n",
    "for i in range(results_df.shape[0]):\n",
    "    string = results_df.loc[i].at['location']\n",
    "    if len(string.split(',')) != 2:\n",
    "        string = string + \", \" + string\n",
    "        results_df.loc[i].at['location'] = string\n",
    "        \n",
    "# Split location column into two        \n",
    "results_df[[\"city\",\"country\"]] = results_df[\"location\"].str.split(',',expand=True)\n",
    "results_df = results_df.drop([\"location\",\"Activities\"],axis=1)\n",
    "# Rearrange columns"
   ]
  },
  {
   "cell_type": "code",
   "execution_count": 23,
   "id": "5b9c7d59",
   "metadata": {},
   "outputs": [
    {
     "data": {
      "text/html": [
       "<div>\n",
       "<style scoped>\n",
       "    .dataframe tbody tr th:only-of-type {\n",
       "        vertical-align: middle;\n",
       "    }\n",
       "\n",
       "    .dataframe tbody tr th {\n",
       "        vertical-align: top;\n",
       "    }\n",
       "\n",
       "    .dataframe thead th {\n",
       "        text-align: right;\n",
       "    }\n",
       "</style>\n",
       "<table border=\"1\" class=\"dataframe\">\n",
       "  <thead>\n",
       "    <tr style=\"text-align: right;\">\n",
       "      <th></th>\n",
       "      <th>act1</th>\n",
       "      <th>act2</th>\n",
       "      <th>act3</th>\n",
       "      <th>act4</th>\n",
       "      <th>act5</th>\n",
       "      <th>city</th>\n",
       "      <th>country</th>\n",
       "    </tr>\n",
       "  </thead>\n",
       "  <tbody>\n",
       "    <tr>\n",
       "      <th>0</th>\n",
       "      <td>beaches</td>\n",
       "      <td>snorkeling</td>\n",
       "      <td>paddleboarding</td>\n",
       "      <td>sailing</td>\n",
       "      <td>spas</td>\n",
       "      <td>Cook Islands</td>\n",
       "      <td>Cook Islands</td>\n",
       "    </tr>\n",
       "    <tr>\n",
       "      <th>1</th>\n",
       "      <td>hiking</td>\n",
       "      <td>sailing</td>\n",
       "      <td>tours</td>\n",
       "      <td>beaches</td>\n",
       "      <td>spas</td>\n",
       "      <td>Dubrovnik</td>\n",
       "      <td>Croatia</td>\n",
       "    </tr>\n",
       "    <tr>\n",
       "      <th>2</th>\n",
       "      <td>beaches</td>\n",
       "      <td>sailing</td>\n",
       "      <td>snorkeling</td>\n",
       "      <td>paddleboarding</td>\n",
       "      <td>horsebackriding</td>\n",
       "      <td>Antigua and Barbuda</td>\n",
       "      <td>Antigua and Barbuda</td>\n",
       "    </tr>\n",
       "    <tr>\n",
       "      <th>3</th>\n",
       "      <td>hot_air_balloons</td>\n",
       "      <td>tours</td>\n",
       "      <td>spas</td>\n",
       "      <td>horsebackriding</td>\n",
       "      <td>sailing</td>\n",
       "      <td>Dubai</td>\n",
       "      <td>UAE</td>\n",
       "    </tr>\n",
       "    <tr>\n",
       "      <th>4</th>\n",
       "      <td>beaches</td>\n",
       "      <td>snorkeling</td>\n",
       "      <td>parasailing</td>\n",
       "      <td>paddleboarding</td>\n",
       "      <td>horsebackriding</td>\n",
       "      <td>Turks and Caicos Islands</td>\n",
       "      <td>Turks and Caicos Islands</td>\n",
       "    </tr>\n",
       "    <tr>\n",
       "      <th>...</th>\n",
       "      <td>...</td>\n",
       "      <td>...</td>\n",
       "      <td>...</td>\n",
       "      <td>...</td>\n",
       "      <td>...</td>\n",
       "      <td>...</td>\n",
       "      <td>...</td>\n",
       "    </tr>\n",
       "    <tr>\n",
       "      <th>68</th>\n",
       "      <td>Beaches</td>\n",
       "      <td>hot air balloons</td>\n",
       "      <td>snorkeling</td>\n",
       "      <td>tours</td>\n",
       "      <td>sailing</td>\n",
       "      <td>Muscat</td>\n",
       "      <td>Oman</td>\n",
       "    </tr>\n",
       "    <tr>\n",
       "      <th>69</th>\n",
       "      <td>Beaches</td>\n",
       "      <td>tours</td>\n",
       "      <td>spas</td>\n",
       "      <td>hot springs</td>\n",
       "      <td>horsebackriding</td>\n",
       "      <td>Kuwait City</td>\n",
       "      <td>Kuwait</td>\n",
       "    </tr>\n",
       "    <tr>\n",
       "      <th>70</th>\n",
       "      <td>Beaches</td>\n",
       "      <td>tours</td>\n",
       "      <td>spas</td>\n",
       "      <td>hiking</td>\n",
       "      <td>hot springs</td>\n",
       "      <td>Beirut</td>\n",
       "      <td>Lebanon</td>\n",
       "    </tr>\n",
       "    <tr>\n",
       "      <th>71</th>\n",
       "      <td>Beaches</td>\n",
       "      <td>snorkeling</td>\n",
       "      <td>sailing</td>\n",
       "      <td>tours</td>\n",
       "      <td>spas</td>\n",
       "      <td>Valletta</td>\n",
       "      <td>Malta</td>\n",
       "    </tr>\n",
       "    <tr>\n",
       "      <th>72</th>\n",
       "      <td>Hiking</td>\n",
       "      <td>hot springs</td>\n",
       "      <td>tours</td>\n",
       "      <td>spas</td>\n",
       "      <td>horsebackriding</td>\n",
       "      <td>Reykjavik</td>\n",
       "      <td>Iceland</td>\n",
       "    </tr>\n",
       "  </tbody>\n",
       "</table>\n",
       "<p>73 rows × 7 columns</p>\n",
       "</div>"
      ],
      "text/plain": [
       "                act1               act2             act3              act4  \\\n",
       "0            beaches         snorkeling   paddleboarding           sailing   \n",
       "1             hiking            sailing            tours           beaches   \n",
       "2            beaches            sailing       snorkeling    paddleboarding   \n",
       "3   hot_air_balloons              tours             spas   horsebackriding   \n",
       "4            beaches         snorkeling      parasailing    paddleboarding   \n",
       "..               ...                ...              ...               ...   \n",
       "68           Beaches   hot air balloons       snorkeling             tours   \n",
       "69           Beaches              tours             spas       hot springs   \n",
       "70           Beaches              tours             spas            hiking   \n",
       "71           Beaches         snorkeling          sailing             tours   \n",
       "72            Hiking        hot springs            tours              spas   \n",
       "\n",
       "                act5                      city                    country  \n",
       "0               spas              Cook Islands               Cook Islands  \n",
       "1               spas                 Dubrovnik                    Croatia  \n",
       "2    horsebackriding       Antigua and Barbuda        Antigua and Barbuda  \n",
       "3            sailing                     Dubai                        UAE  \n",
       "4    horsebackriding  Turks and Caicos Islands   Turks and Caicos Islands  \n",
       "..               ...                       ...                        ...  \n",
       "68           sailing                    Muscat                       Oman  \n",
       "69   horsebackriding               Kuwait City                     Kuwait  \n",
       "70       hot springs                    Beirut                    Lebanon  \n",
       "71              spas                  Valletta                      Malta  \n",
       "72   horsebackriding                 Reykjavik                    Iceland  \n",
       "\n",
       "[73 rows x 7 columns]"
      ]
     },
     "execution_count": 23,
     "metadata": {},
     "output_type": "execute_result"
    }
   ],
   "source": [
    "results_df"
   ]
  },
  {
   "cell_type": "code",
   "execution_count": 24,
   "id": "61b42fa0",
   "metadata": {},
   "outputs": [],
   "source": [
    "results_df.to_csv(\"../Resources/chatgpt_activities.csv\")"
   ]
  },
  {
   "cell_type": "code",
   "execution_count": null,
   "id": "a827103a",
   "metadata": {},
   "outputs": [],
   "source": []
  }
 ],
 "metadata": {
  "kernelspec": {
   "display_name": "PythonData",
   "language": "python",
   "name": "pythondata"
  },
  "language_info": {
   "codemirror_mode": {
    "name": "ipython",
    "version": 3
   },
   "file_extension": ".py",
   "mimetype": "text/x-python",
   "name": "python",
   "nbconvert_exporter": "python",
   "pygments_lexer": "ipython3",
   "version": "3.7.7"
  }
 },
 "nbformat": 4,
 "nbformat_minor": 5
}
