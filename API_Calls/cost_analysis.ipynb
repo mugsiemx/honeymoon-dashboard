{
 "cells": [
  {
   "cell_type": "code",
   "execution_count": 1,
   "id": "3a7a7e02",
   "metadata": {},
   "outputs": [],
   "source": [
    "#import dependencies\n",
    "import pandas as pd\n",
    "import numpy as np"
   ]
  },
  {
   "cell_type": "code",
   "execution_count": 2,
   "id": "202a84cc",
   "metadata": {},
   "outputs": [],
   "source": [
    "#Import CSV files\n",
    "cost_csvpath = \"../Resources/cost_of_living.csv\"\n",
    "cities_csvpath=\"../Resources/CitiesWGeolocation.csv\"\n",
    "\n",
    "cost_raw_df = pd.read_csv(cost_csvpath,index_col=0)\n",
    "cities_df = pd.read_csv(cities_csvpath,index_col=0)\n"
   ]
  },
  {
   "cell_type": "code",
   "execution_count": 3,
   "id": "0940f4cd",
   "metadata": {},
   "outputs": [],
   "source": [
    "# Strip out any extraneous white space from the columns that will be filtered later\n",
    "cities_df[\"Country\"] = cities_df[\"Country\"].str.strip()\n",
    "cities_df[\"City\"] = cities_df[\"City\"].str.strip()\n",
    "cost_raw_df[\"country\"] = cost_raw_df[\"country\"].str.strip()\n",
    "cost_raw_df[\"city\"] = cost_raw_df[\"city\"].str.strip()"
   ]
  },
  {
   "cell_type": "code",
   "execution_count": 4,
   "id": "a93898b4",
   "metadata": {},
   "outputs": [],
   "source": [
    "# Documentation from Kaggle Dataset explaining the names of the columns. Filtered to only show columns we want to keep\n",
    "# city\tName of the city\n",
    "# country\tName of the country\n",
    "# x2\tMeal for 2 People, Mid-range Restaurant, Three-course (USD)\n",
    "# x28\tOne-way Ticket (Local Transport) (USD)\n",
    "# x30\tTaxi Start (Normal Tariff) (USD)\n",
    "# x31\tTaxi 1km (Normal Tariff) (USD)"
   ]
  },
  {
   "cell_type": "code",
   "execution_count": 10,
   "id": "595e7eae",
   "metadata": {
    "scrolled": true
   },
   "outputs": [
    {
     "data": {
      "text/plain": [
       "array(['Afghanistan', 'Albania', 'Algeria', 'American Samoa', 'Andorra',\n",
       "       'Angola', 'Anguilla', 'Antigua And Barbuda', 'Argentina',\n",
       "       'Armenia', 'Aruba', 'Australia', 'Austria', 'Azerbaijan',\n",
       "       'Bahrain', 'Bangladesh', 'Barbados', 'Belarus', 'Belgium',\n",
       "       'Belize', 'Benin', 'Bermuda', 'Bhutan', 'Bolivia',\n",
       "       'Bosnia And Herzegovina', 'Botswana', 'Brazil',\n",
       "       'British Virgin Islands', 'Brunei', 'Bulgaria', 'Burkina Faso',\n",
       "       'Burundi', 'Cambodia', 'Cameroon', 'Canada', 'Chad', 'Chile',\n",
       "       'China', 'Colombia', 'Comoros', 'Cook Islands', 'Costa Rica',\n",
       "       'Croatia', 'Cuba', 'Cyprus', 'Denmark', 'Djibouti', 'Dominica',\n",
       "       'Dominican Republic', 'Ecuador', 'Egypt', 'El Salvador',\n",
       "       'Equatorial Guinea', 'Eritrea', 'Estonia', 'Ethiopia',\n",
       "       'Faroe Islands', 'Fiji', 'Finland', 'France', 'French Guiana',\n",
       "       'French Polynesia', 'Gabon', 'Georgia', 'Germany', 'Ghana',\n",
       "       'Gibraltar', 'Greece', 'Greenland', 'Guadeloupe', 'Guatemala',\n",
       "       'Guinea', 'Guinea-Bissau', 'Guyana', 'Haiti', 'Honduras',\n",
       "       'Hong Kong', 'Hungary', 'Iceland', 'India', 'Indonesia', 'Iran',\n",
       "       'Iraq', 'Ireland', 'Isle Of Man', 'Israel', 'Italy', 'Jamaica',\n",
       "       'Japan', 'Jersey', 'Jordan', 'Kazakhstan', 'Kenya', 'Kuwait',\n",
       "       'Kyrgyzstan', 'Laos', 'Latvia', 'Lebanon', 'Lesotho', 'Liberia',\n",
       "       'Libya', 'Liechtenstein', 'Lithuania', 'Luxembourg', 'Madagascar',\n",
       "       'Malawi', 'Malaysia', 'Maldives', 'Mali', 'Malta',\n",
       "       'Marshall Islands', 'Martinique', 'Mauritania', 'Mauritius',\n",
       "       'Mexico', 'Moldova', 'Monaco', 'Mongolia', 'Montenegro',\n",
       "       'Montserrat', 'Morocco', 'Mozambique', 'Myanmar', 'Namibia',\n",
       "       'Nauru', 'Nepal', 'Netherlands', 'New Caledonia', 'New Zealand',\n",
       "       'Nicaragua', 'Niger', 'Nigeria', 'North Korea', 'Norway', 'Oman',\n",
       "       'Pakistan', 'Panama', 'Papua New Guinea', 'Paraguay', 'Peru',\n",
       "       'Philippines', 'Poland', 'Portugal', 'Puerto Rico', 'Qatar',\n",
       "       'Reunion', 'Romania', 'Russia', 'Rwanda', 'Saint Kitts And Nevis',\n",
       "       'Saint Lucia', 'Saint Vincent And The Grenadines', 'Samoa',\n",
       "       'San Marino', 'Sao Tome And Principe', 'Saudi Arabia', 'Senegal',\n",
       "       'Serbia', 'Seychelles', 'Sierra Leone', 'Singapore',\n",
       "       'Sint Maarten', 'Slovakia', 'Slovenia', 'Solomon Islands',\n",
       "       'Somalia', 'South Africa', 'South Korea', 'South Sudan', 'Spain',\n",
       "       'Sri Lanka', 'Sudan', 'Suriname', 'Swaziland', 'Sweden',\n",
       "       'Switzerland', 'Syria', 'Taiwan', 'Tajikistan', 'Tanzania',\n",
       "       'Thailand', 'Timor-Leste', 'Togo', 'Tonga', 'Trinidad And Tobago',\n",
       "       'Tunisia', 'Turkey', 'Turkmenistan', 'Turks And Caicos Islands',\n",
       "       'Tuvalu', 'Uganda', 'Ukraine', 'United Arab Emirates',\n",
       "       'United Kingdom', 'United States', 'Uruguay', 'Uzbekistan',\n",
       "       'Vanuatu', 'Vatican City', 'Venezuela', 'Vietnam', 'Yemen',\n",
       "       'Zambia', 'Zimbabwe'], dtype=object)"
      ]
     },
     "execution_count": 10,
     "metadata": {},
     "output_type": "execute_result"
    }
   ],
   "source": [
    "# Normalize the dataset\n",
    "# filter out the columns we care about and rename them to match the descriptions\n",
    "cost_df = cost_raw_df[[\"city\",\"country\",\"x2\",\"x28\",\"x30\",\"x31\"]]\n",
    "cost_df = cost_df.rename(columns={\"x2\":\"meal\",\"x28\":\"ticket\",\"x30\":\"taxi_start\",\"x31\":\"taxi_1km\"})\n",
    "\n",
    "# Standardize capitalization of all text columns\n",
    "cost_df[\"city\"] = cost_df[\"city\"].str.title()\n",
    "cost_df[\"country\"] = cost_df[\"country\"].str.title()\n",
    "\n",
    "# Replace NaN values, sort by country, print a list of unique countries\n",
    "cost_df = cost_df.replace(np.nan,0)\n",
    "cost_df = cost_df.sort_values(by=\"country\")\n",
    "cost_df[\"country\"].unique()"
   ]
  },
  {
   "cell_type": "code",
   "execution_count": 11,
   "id": "e140d949",
   "metadata": {},
   "outputs": [
    {
     "data": {
      "text/plain": [
       "array(['Antigua And Barbuda', 'Argentina', 'Australia', 'Austria',\n",
       "       'Bahamas', 'Barbados', 'Belarus', 'Belgium', 'Bolivia', 'Brazil',\n",
       "       'Bulgaria', 'Cambodia', 'Canada', 'Cayman Islands', 'Chile',\n",
       "       'China', 'Colombia', 'Cook Islands', 'Costa Rica', 'Croatia',\n",
       "       'Czech Republic', 'Denmark', 'Ecuador', 'Estonia', 'Fiji',\n",
       "       'Finland', 'France', 'Germany', 'Greece', 'Hungary', 'Iceland',\n",
       "       'India', 'Indonesia', 'Ireland', 'Israel', 'Italy', 'Jamaica',\n",
       "       'Japan', 'Kuwait', 'Laos', 'Latvia', 'Lebanon', 'Lithuania',\n",
       "       'Malaysia', 'Malta', 'Mauritius', 'Mexico', 'Morocco', 'Nepal',\n",
       "       'Netherlands', 'New Zealand', 'Norway', 'Oman', 'Peru',\n",
       "       'Philippines', 'Poland', 'Portugal', 'Qatar', 'Romania', 'Russia',\n",
       "       'Saint Lucia', 'Senegal', 'Serbia', 'Seychelles', 'Singapore',\n",
       "       'Slovenia', 'South Africa', 'South Korea', 'Spain', 'Sri Lanka',\n",
       "       'Sweden', 'Switzerland', 'Taiwan', 'Tanzania', 'Thailand',\n",
       "       'Turkey', 'Turks And Caicos Islands', 'Ukraine',\n",
       "       'United Arab Emirates', 'United Kingdom', 'United States',\n",
       "       'Uruguay', 'Vietnam'], dtype=object)"
      ]
     },
     "execution_count": 11,
     "metadata": {},
     "output_type": "execute_result"
    }
   ],
   "source": [
    "# Normalize the dataset\n",
    "\n",
    "# Standardize the spelling / capitalization\n",
    "cities_df = cities_df.rename(columns={\"Country\":\"country\",\"City\":\"city\"})\n",
    "# Remove unnecessary characters\n",
    "cities_df[\"country\"] = cities_df[\"country\"].str.replace('\\u200b',\"\")\n",
    "cities_df[\"country\"] = cities_df[\"country\"].str.replace('Kingdom of the Netherlands','Netherlands')\n",
    "\n",
    "# Standardize capitalization of all text columns\n",
    "cities_df[\"country\"] = cities_df[\"country\"].str.title()\n",
    "cities_df[\"city\"] = cities_df[\"city\"].str.title()\n",
    "\n",
    "# Reset index and replace NaN values\n",
    "cities_df.reset_index(inplace=True)\n",
    "cities_df.replace(np.nan,0)\n",
    "\n",
    "# Sort by country and print a list of unique countries\n",
    "cities_df = cities_df.sort_values(by=\"country\")\n",
    "cities_df[\"country\"].unique()"
   ]
  },
  {
   "cell_type": "code",
   "execution_count": 12,
   "id": "b5e5f6f6",
   "metadata": {},
   "outputs": [],
   "source": [
    "# Initialize four new columns on cities_df with 0 to avoid NaN values\n",
    "cities_df[\"meal\"] = 0\n",
    "cities_df[\"ticket\"] = 0\n",
    "cities_df[\"taxi_start\"] = 0\n",
    "cities_df[\"taxi_1km\"] = 0"
   ]
  },
  {
   "cell_type": "code",
   "execution_count": 13,
   "id": "5a681edd",
   "metadata": {},
   "outputs": [],
   "source": [
    "for i in range(len(cities_df)):\n",
    "    if len(cost_df.loc[(cost_df['city'] == cities_df['city'][i]) & (cost_df['country'] == cities_df['country'][i])]) == 1:\n",
    "        result = cost_df.loc[(cost_df['city'] == cities_df['city'][i]) & (cost_df['country'] == cities_df['country'][i])]\n",
    "        cities_df.at[i,\"meal\"] = result['meal']\n",
    "        cities_df.at[i,\"ticket\"] = result[\"ticket\"]\n",
    "        cities_df.at[i,\"taxi_start\"] = result[\"taxi_start\"]\n",
    "        cities_df.at[i,\"meal\"] = result[\"taxi_1km\"]\n",
    "        cities_df.at[i,\"data_quality\"] = 1\n",
    "    elif len(cost_df.loc[(cost_df['city'] == cities_df['city'][i]) & (cost_df['country'] == cities_df['country'][i])]) == 0:\n",
    "        if len(cost_df.loc[(cost_df['country'] == cities_df['country'][i])]) >=1:\n",
    "            result = cost_df.loc[(cost_df['country'] == cities_df['country'][i])]\n",
    "            cities_df.at[i,\"meal\"] = result[\"meal\"].mean()\n",
    "            cities_df.at[i,\"meal\"] = result[\"ticket\"].mean()\n",
    "            cities_df.at[i,\"meal\"] = result[\"taxi_start\"].mean()\n",
    "            cities_df.at[i,\"meal\"] = result[\"taxi_1km\"].mean()\n",
    "            cities_df.at[i,\"data_quality\"] = 2"
   ]
  },
  {
   "cell_type": "code",
   "execution_count": 14,
   "id": "66e5bb99",
   "metadata": {},
   "outputs": [
    {
     "data": {
      "text/html": [
       "<div>\n",
       "<style scoped>\n",
       "    .dataframe tbody tr th:only-of-type {\n",
       "        vertical-align: middle;\n",
       "    }\n",
       "\n",
       "    .dataframe tbody tr th {\n",
       "        vertical-align: top;\n",
       "    }\n",
       "\n",
       "    .dataframe thead th {\n",
       "        text-align: right;\n",
       "    }\n",
       "</style>\n",
       "<table border=\"1\" class=\"dataframe\">\n",
       "  <thead>\n",
       "    <tr style=\"text-align: right;\">\n",
       "      <th></th>\n",
       "      <th>index</th>\n",
       "      <th>city</th>\n",
       "      <th>State/Province</th>\n",
       "      <th>country</th>\n",
       "      <th>Latitude</th>\n",
       "      <th>Longitude</th>\n",
       "      <th>meal</th>\n",
       "      <th>ticket</th>\n",
       "      <th>taxi_start</th>\n",
       "      <th>taxi_1km</th>\n",
       "      <th>data_quality</th>\n",
       "    </tr>\n",
       "  </thead>\n",
       "  <tbody>\n",
       "    <tr>\n",
       "      <th>80</th>\n",
       "      <td>91</td>\n",
       "      <td>Bahamas​</td>\n",
       "      <td>NaN</td>\n",
       "      <td>Bahamas</td>\n",
       "      <td>24.773655</td>\n",
       "      <td>-78.000055</td>\n",
       "      <td>0</td>\n",
       "      <td>0</td>\n",
       "      <td>0</td>\n",
       "      <td>0</td>\n",
       "      <td>NaN</td>\n",
       "    </tr>\n",
       "    <tr>\n",
       "      <th>29</th>\n",
       "      <td>31</td>\n",
       "      <td>Cayman Islands​</td>\n",
       "      <td>NaN</td>\n",
       "      <td>Cayman Islands</td>\n",
       "      <td>19.703182</td>\n",
       "      <td>-79.917463</td>\n",
       "      <td>0</td>\n",
       "      <td>0</td>\n",
       "      <td>0</td>\n",
       "      <td>0</td>\n",
       "      <td>NaN</td>\n",
       "    </tr>\n",
       "    <tr>\n",
       "      <th>109</th>\n",
       "      <td>123</td>\n",
       "      <td>Prague</td>\n",
       "      <td>NaN</td>\n",
       "      <td>Czech Republic</td>\n",
       "      <td>50.087465</td>\n",
       "      <td>14.421254</td>\n",
       "      <td>0</td>\n",
       "      <td>0</td>\n",
       "      <td>0</td>\n",
       "      <td>0</td>\n",
       "      <td>NaN</td>\n",
       "    </tr>\n",
       "  </tbody>\n",
       "</table>\n",
       "</div>"
      ],
      "text/plain": [
       "     index             city State/Province         country   Latitude  \\\n",
       "80      91         Bahamas​            NaN         Bahamas  24.773655   \n",
       "29      31  Cayman Islands​            NaN  Cayman Islands  19.703182   \n",
       "109    123           Prague            NaN  Czech Republic  50.087465   \n",
       "\n",
       "     Longitude  meal  ticket  taxi_start  taxi_1km  data_quality  \n",
       "80  -78.000055     0       0           0         0           NaN  \n",
       "29  -79.917463     0       0           0         0           NaN  \n",
       "109  14.421254     0       0           0         0           NaN  "
      ]
     },
     "execution_count": 14,
     "metadata": {},
     "output_type": "execute_result"
    }
   ],
   "source": [
    "cities_df[cities_df[\"data_quality\"].isna()]"
   ]
  },
  {
   "cell_type": "code",
   "execution_count": null,
   "id": "37f0cfec",
   "metadata": {},
   "outputs": [],
   "source": []
  }
 ],
 "metadata": {
  "kernelspec": {
   "display_name": "PythonData",
   "language": "python",
   "name": "pythondata"
  },
  "language_info": {
   "codemirror_mode": {
    "name": "ipython",
    "version": 3
   },
   "file_extension": ".py",
   "mimetype": "text/x-python",
   "name": "python",
   "nbconvert_exporter": "python",
   "pygments_lexer": "ipython3",
   "version": "3.7.7"
  }
 },
 "nbformat": 4,
 "nbformat_minor": 5
}
