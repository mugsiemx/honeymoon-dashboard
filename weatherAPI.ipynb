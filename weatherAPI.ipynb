{
 "cells": [
  {
   "cell_type": "code",
   "execution_count": 45,
   "id": "760d054a",
   "metadata": {},
   "outputs": [],
   "source": [
    "# dependencies and setup\n",
    "import requests\n",
    "import os\n",
    "import json\n",
    "import pandas as pd\n",
    "from pandas import json_normalize\n",
    "\n",
    "# import the OpenWeatherMap API key\n",
    "from config import weather_api_key\n",
    "\n",
    "\n",
    "# import list of latitude/longitude data folder\n",
    "# locations_path = os.path.join('..', 'Tazia file', \"\")"
   ]
  },
  {
   "cell_type": "code",
   "execution_count": 46,
   "id": "561900ad",
   "metadata": {},
   "outputs": [],
   "source": [
    "# initialize the data for entry into the website before selection\n",
    "#          Lexington, KY\n",
    "latitude = 38.047989\n",
    "longitude = -84.501640\n",
    "apiKey = weather_api_key\n",
    "monthId = 8\n",
    "api_bracketR = '}'\n",
    "api_bracketL = '{'\n",
    "#monthId = [1, 2, 3, 4, 5, 6, 7, 8, 9, 10, 11, 12]"
   ]
  },
  {
   "cell_type": "code",
   "execution_count": 47,
   "id": "866ab129",
   "metadata": {},
   "outputs": [],
   "source": [
    "# # Get the api endpoint\n",
    "# url = \"https://history.openweathermap.org/data/2.5/aggregated/month?month=2&lat=35&lon=139&appid={API key}\"\n",
    "\n",
    "baseUrl = f'https://history.openweathermap.org/data/2.5/aggregated/month?'\n",
    "parms = f'month={monthId}&lat={latitude}&lon={longitude}&appid={api_bracketL}{apiKey}{api_bracketR}'\n",
    "# url = baseUrl + parms\n",
    "# url"
   ]
  },
  {
   "cell_type": "code",
   "execution_count": 48,
   "id": "1af78243",
   "metadata": {},
   "outputs": [],
   "source": [
    "# api.openweathermap.org/data/2.5/forecast?lat={lat}&lon={lon}&appid={API key}\n",
    "\n",
    "\n",
    "# baseUrl = f'api.openweathermap.org/data/2.5/forecast?'\n",
    "# parms = f'&lat={latitude}&lon={longitude}&appid={api_bracketL}{apiKey}{api_bracketR}'\n",
    "# url = baseUrl + parms\n",
    "# url"
   ]
  },
  {
   "cell_type": "code",
   "execution_count": 50,
   "id": "84343ef7",
   "metadata": {},
   "outputs": [],
   "source": [
    "# Run an API request for each of the cities\n",
    "    # Parse the JSON and retrieve data\n",
    "    \n",
    "# response = requests.get(url)\n",
    "# response, url\n",
    "\n",
    "# dictr = response.json()\n",
    "# recs = dictr['result']['records']\n",
    "# df = json_normalize(recs)\n",
    "# print(df)"
   ]
  },
  {
   "cell_type": "code",
   "execution_count": null,
   "id": "e01924a5",
   "metadata": {},
   "outputs": [],
   "source": []
  }
 ],
 "metadata": {
  "kernelspec": {
   "display_name": "PythonData",
   "language": "python",
   "name": "pythondata"
  },
  "language_info": {
   "codemirror_mode": {
    "name": "ipython",
    "version": 3
   },
   "file_extension": ".py",
   "mimetype": "text/x-python",
   "name": "python",
   "nbconvert_exporter": "python",
   "pygments_lexer": "ipython3",
   "version": "3.7.7"
  }
 },
 "nbformat": 4,
 "nbformat_minor": 5
}
